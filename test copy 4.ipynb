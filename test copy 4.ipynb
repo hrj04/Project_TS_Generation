{
 "cells": [
  {
   "cell_type": "code",
   "execution_count": 1,
   "metadata": {},
   "outputs": [
    {
     "name": "stderr",
     "output_type": "stream",
     "text": [
      "/home/harim/Desktop/pyproject/Project_TS_Generation/.venv/lib/python3.12/site-packages/tqdm/auto.py:21: TqdmWarning: IProgress not found. Please update jupyter and ipywidgets. See https://ipywidgets.readthedocs.io/en/stable/user_install.html\n",
      "  from .autonotebook import tqdm as notebook_tqdm\n"
     ]
    }
   ],
   "source": [
    "import os\n",
    "import matplotlib.pyplot as plt\n",
    "import torch\n",
    "from torch import nn\n",
    "from torch.optim import Adam\n",
    "import numpy as np\n",
    "from torch.utils.data import DataLoader, TensorDataset\n",
    "from tqdm import tqdm\n",
    "from torchmetrics import MeanAbsolutePercentageError\n",
    "\n",
    "\n",
    "from data.dataloader import dataloader_info\n",
    "from utils.utils import load_yaml_config, instantiate_from_config\n",
    "\n",
    "from models.predictor import GRU\n",
    "from models.solver import Trainer\n",
    "from data.dataloader import dataloader_info\n",
    "from utils.visualize import visualize_pca, visualize_tsne, visualize_kernel\n",
    "\n",
    "import copy"
   ]
  },
  {
   "cell_type": "code",
   "execution_count": 2,
   "metadata": {},
   "outputs": [],
   "source": [
    "# Load configurations\n",
    "configs = load_yaml_config(\"configs/stock_class.yaml\")\n",
    "device = \"cuda\" if torch.cuda.is_available() else \"cpu\"\n",
    "\n",
    "# Initialize Diffusion_TS Model\n",
    "diffusion_ts = instantiate_from_config(configs['model']).to(device)\n",
    "batch_size = 128"
   ]
  },
  {
   "cell_type": "code",
   "execution_count": 3,
   "metadata": {},
   "outputs": [],
   "source": [
    "# dataloader\n",
    "dl_info = dataloader_info(configs)\n",
    "dl_info_test = dataloader_info(configs, train=False)\n",
    "\n",
    "dataset = dl_info['dataset']"
   ]
  },
  {
   "cell_type": "code",
   "execution_count": 4,
   "metadata": {},
   "outputs": [],
   "source": [
    "dl = dl_info[\"dataloader\"]"
   ]
  },
  {
   "cell_type": "code",
   "execution_count": 5,
   "metadata": {},
   "outputs": [],
   "source": [
    "class StockPricePredictor(nn.Module):\n",
    "    def __init__(self, input_dim, hidden_dim, output_dim, num_layers, dropout_rate=0.5):\n",
    "        super().__init__()\n",
    "        self.gru = nn.GRU(input_dim, hidden_dim, num_layers, batch_first=True, dropout=dropout_rate)\n",
    "        self.layer_norm = nn.LayerNorm(hidden_dim)\n",
    "        self.dropout = nn.Dropout(dropout_rate)\n",
    "        self.fc = nn.Linear(hidden_dim, output_dim)\n",
    "        self.sigmoid = nn.Sigmoid()\n",
    "    \n",
    "    def forward(self, x):\n",
    "        h_0 = torch.zeros(self.gru.num_layers, x.size(0), self.gru.hidden_size).to(x.device)\n",
    "        gru_out, _ = self.gru(x, h_0)\n",
    "        gru_out = self.layer_norm(gru_out)\n",
    "        gru_out = self.dropout(gru_out)\n",
    "        out = self.fc(gru_out[:, -1, :])\n",
    "        return self.sigmoid(out)"
   ]
  },
  {
   "cell_type": "code",
   "execution_count": 6,
   "metadata": {},
   "outputs": [],
   "source": [
    "# class StockPricePredictor(nn.Module):\n",
    "#     def __init__(self, input_dim, hidden_dim, output_dim, num_layers):\n",
    "#         super().__init__()\n",
    "#         self.gru = nn.GRU(input_dim, hidden_dim, num_layers, batch_first=True)\n",
    "#         self.fc = nn.Linear(hidden_dim, output_dim)\n",
    "#         self.sigmoid = nn.Sigmoid()\n",
    "    \n",
    "#     def forward(self, x):\n",
    "#         gru_out, _ = self.gru(x)\n",
    "#         out = self.fc(gru_out[:, -1, :])\n",
    "        \n",
    "#         return self.sigmoid(out)\n"
   ]
  },
  {
   "cell_type": "code",
   "execution_count": 14,
   "metadata": {},
   "outputs": [],
   "source": [
    "input_dim = 6\n",
    "hidden_dim = 64\n",
    "output_dim = 1\n",
    "num_layers = 2\n",
    "\n",
    "model = StockPricePredictor(input_dim, hidden_dim, output_dim, num_layers).to(device)\n",
    "\n",
    "# Step 3: Train the Model\n",
    "from torch import optim\n",
    "criterion = nn.BCELoss()\n",
    "optimizer = optim.Adam(model.parameters(), lr=0.001)\n"
   ]
  },
  {
   "cell_type": "code",
   "execution_count": 15,
   "metadata": {},
   "outputs": [],
   "source": [
    "train_dataset = dl_info['dataset']"
   ]
  },
  {
   "cell_type": "code",
   "execution_count": 16,
   "metadata": {},
   "outputs": [],
   "source": [
    "idx = np.random.permutation(len(train_dataset))\n"
   ]
  },
  {
   "cell_type": "code",
   "execution_count": 17,
   "metadata": {},
   "outputs": [],
   "source": [
    "train_n = int(0.7*len(train_dataset))\n",
    "train_data = train_dataset.data[idx[:train_n],:,:]\n",
    "validate_data = train_dataset.data[idx[train_n:],:,:]\n"
   ]
  },
  {
   "cell_type": "code",
   "execution_count": 18,
   "metadata": {},
   "outputs": [],
   "source": [
    "train_loader = DataLoader(train_data, batch_size=128, shuffle=True)\n",
    "val_loader = DataLoader(validate_data, batch_size=128, shuffle=True)"
   ]
  },
  {
   "cell_type": "code",
   "execution_count": 19,
   "metadata": {},
   "outputs": [],
   "source": [
    "# Training function with Early Stopping\n",
    "def train_model(model, train_loader, val_loader, criterion, optimizer, \n",
    "                num_epochs, patience, device):\n",
    "    model.train()\n",
    "    best_loss = float('inf')\n",
    "    epochs_no_improve = 0\n",
    "\n",
    "    for epoch in range(num_epochs):\n",
    "        model.train()\n",
    "        train_loss = 0.0\n",
    "        for data in train_loader:\n",
    "            x_train, y_train = data[:,:-1,:], data[:,-1:,0]\n",
    "            x_train, y_train = x_train.to(device), y_train.to(device)\n",
    "            optimizer.zero_grad()\n",
    "            outputs = model(x_train).to(device)\n",
    "            loss = criterion(outputs, y_train)\n",
    "            loss.backward()\n",
    "            optimizer.step()\n",
    "            train_loss += loss.item()\n",
    "        \n",
    "        train_loss /= len(train_loader)\n",
    "        \n",
    "        # Validation phase\n",
    "        model.eval()\n",
    "        val_loss = 0.0\n",
    "        with torch.no_grad():\n",
    "            for data in val_loader:\n",
    "                x_val, y_val = data[:,:-1,:], data[:,-1:,0]\n",
    "                x_val, y_val = x_val.to(device), y_val.to(device)\n",
    "                outputs = model(x_val).to(device)\n",
    "                loss = criterion(outputs, y_val)\n",
    "                val_loss += loss.item()\n",
    "        \n",
    "        val_loss /= len(val_loader)\n",
    "        print(f'Epoch {epoch+1}/{num_epochs}, Train Loss: {train_loss:.6f}, Validation Loss: {val_loss:.6f}')\n",
    "        \n",
    "        # Early Stopping\n",
    "        if val_loss < best_loss:\n",
    "            best_loss = val_loss\n",
    "            epochs_no_improve = 0\n",
    "            best_model = model.state_dict()\n",
    "        else:\n",
    "            epochs_no_improve += 1\n",
    "            if epochs_no_improve == patience:\n",
    "                print('Early stopping!')\n",
    "                model.load_state_dict(best_model)\n",
    "                break\n",
    "\n",
    "    model.load_state_dict(best_model)\n",
    "    return model\n"
   ]
  },
  {
   "cell_type": "code",
   "execution_count": 20,
   "metadata": {},
   "outputs": [
    {
     "name": "stdout",
     "output_type": "stream",
     "text": [
      "Epoch 1/1000, Train Loss: 0.741493, Validation Loss: 0.697099\n",
      "Epoch 2/1000, Train Loss: 0.697969, Validation Loss: 0.690711\n",
      "Epoch 3/1000, Train Loss: 0.705862, Validation Loss: 0.694034\n",
      "Epoch 4/1000, Train Loss: 0.701936, Validation Loss: 0.692389\n",
      "Epoch 5/1000, Train Loss: 0.708236, Validation Loss: 0.693675\n",
      "Epoch 6/1000, Train Loss: 0.697888, Validation Loss: 0.697686\n",
      "Epoch 7/1000, Train Loss: 0.696665, Validation Loss: 0.694752\n",
      "Epoch 8/1000, Train Loss: 0.698994, Validation Loss: 0.694513\n",
      "Epoch 9/1000, Train Loss: 0.693819, Validation Loss: 0.695347\n",
      "Epoch 10/1000, Train Loss: 0.691421, Validation Loss: 0.692575\n",
      "Epoch 11/1000, Train Loss: 0.691853, Validation Loss: 0.694508\n",
      "Epoch 12/1000, Train Loss: 0.692933, Validation Loss: 0.695379\n",
      "Epoch 13/1000, Train Loss: 0.693759, Validation Loss: 0.691909\n",
      "Epoch 14/1000, Train Loss: 0.690400, Validation Loss: 0.694393\n",
      "Epoch 15/1000, Train Loss: 0.693919, Validation Loss: 0.692712\n",
      "Epoch 16/1000, Train Loss: 0.694386, Validation Loss: 0.692846\n",
      "Epoch 17/1000, Train Loss: 0.692691, Validation Loss: 0.695333\n",
      "Epoch 18/1000, Train Loss: 0.693348, Validation Loss: 0.692212\n",
      "Epoch 19/1000, Train Loss: 0.688652, Validation Loss: 0.693446\n",
      "Epoch 20/1000, Train Loss: 0.696877, Validation Loss: 0.694686\n",
      "Epoch 21/1000, Train Loss: 0.694167, Validation Loss: 0.695636\n",
      "Epoch 22/1000, Train Loss: 0.691908, Validation Loss: 0.693866\n",
      "Epoch 23/1000, Train Loss: 0.693198, Validation Loss: 0.693052\n",
      "Epoch 24/1000, Train Loss: 0.695645, Validation Loss: 0.693798\n",
      "Epoch 25/1000, Train Loss: 0.694295, Validation Loss: 0.694212\n",
      "Epoch 26/1000, Train Loss: 0.693029, Validation Loss: 0.694918\n",
      "Epoch 27/1000, Train Loss: 0.694185, Validation Loss: 0.693973\n",
      "Epoch 28/1000, Train Loss: 0.692970, Validation Loss: 0.693736\n",
      "Epoch 29/1000, Train Loss: 0.692582, Validation Loss: 0.692756\n",
      "Epoch 30/1000, Train Loss: 0.690170, Validation Loss: 0.692674\n",
      "Epoch 31/1000, Train Loss: 0.693656, Validation Loss: 0.691696\n",
      "Epoch 32/1000, Train Loss: 0.692327, Validation Loss: 0.693051\n",
      "Epoch 33/1000, Train Loss: 0.690315, Validation Loss: 0.694465\n",
      "Epoch 34/1000, Train Loss: 0.692164, Validation Loss: 0.692255\n",
      "Epoch 35/1000, Train Loss: 0.692200, Validation Loss: 0.693233\n",
      "Epoch 36/1000, Train Loss: 0.693036, Validation Loss: 0.693083\n",
      "Epoch 37/1000, Train Loss: 0.692266, Validation Loss: 0.692878\n",
      "Epoch 38/1000, Train Loss: 0.694955, Validation Loss: 0.694324\n",
      "Epoch 39/1000, Train Loss: 0.692831, Validation Loss: 0.692898\n",
      "Epoch 40/1000, Train Loss: 0.689694, Validation Loss: 0.694063\n",
      "Epoch 41/1000, Train Loss: 0.691193, Validation Loss: 0.695797\n",
      "Epoch 42/1000, Train Loss: 0.691550, Validation Loss: 0.694302\n",
      "Epoch 43/1000, Train Loss: 0.691428, Validation Loss: 0.695521\n",
      "Epoch 44/1000, Train Loss: 0.689838, Validation Loss: 0.695151\n",
      "Epoch 45/1000, Train Loss: 0.690260, Validation Loss: 0.695259\n",
      "Epoch 46/1000, Train Loss: 0.689901, Validation Loss: 0.692478\n",
      "Epoch 47/1000, Train Loss: 0.687121, Validation Loss: 0.693084\n",
      "Epoch 48/1000, Train Loss: 0.691420, Validation Loss: 0.695845\n",
      "Epoch 49/1000, Train Loss: 0.690404, Validation Loss: 0.693700\n",
      "Epoch 50/1000, Train Loss: 0.689831, Validation Loss: 0.693948\n",
      "Epoch 51/1000, Train Loss: 0.692916, Validation Loss: 0.691661\n",
      "Epoch 52/1000, Train Loss: 0.690906, Validation Loss: 0.694813\n",
      "Epoch 53/1000, Train Loss: 0.690179, Validation Loss: 0.692623\n",
      "Epoch 54/1000, Train Loss: 0.692232, Validation Loss: 0.695079\n",
      "Epoch 55/1000, Train Loss: 0.689390, Validation Loss: 0.692682\n",
      "Epoch 56/1000, Train Loss: 0.693111, Validation Loss: 0.694048\n",
      "Epoch 57/1000, Train Loss: 0.691494, Validation Loss: 0.690618\n",
      "Epoch 58/1000, Train Loss: 0.690012, Validation Loss: 0.693095\n",
      "Epoch 59/1000, Train Loss: 0.691623, Validation Loss: 0.693312\n",
      "Epoch 60/1000, Train Loss: 0.690618, Validation Loss: 0.692016\n",
      "Epoch 61/1000, Train Loss: 0.691196, Validation Loss: 0.692728\n",
      "Epoch 62/1000, Train Loss: 0.691225, Validation Loss: 0.695437\n",
      "Epoch 63/1000, Train Loss: 0.688038, Validation Loss: 0.693537\n",
      "Epoch 64/1000, Train Loss: 0.686755, Validation Loss: 0.691660\n",
      "Epoch 65/1000, Train Loss: 0.691578, Validation Loss: 0.694908\n",
      "Epoch 66/1000, Train Loss: 0.690514, Validation Loss: 0.692410\n",
      "Epoch 67/1000, Train Loss: 0.690873, Validation Loss: 0.692556\n",
      "Epoch 68/1000, Train Loss: 0.689447, Validation Loss: 0.694473\n",
      "Epoch 69/1000, Train Loss: 0.690536, Validation Loss: 0.694111\n",
      "Epoch 70/1000, Train Loss: 0.689969, Validation Loss: 0.695405\n",
      "Epoch 71/1000, Train Loss: 0.690098, Validation Loss: 0.694221\n",
      "Epoch 72/1000, Train Loss: 0.686003, Validation Loss: 0.692580\n",
      "Epoch 73/1000, Train Loss: 0.686854, Validation Loss: 0.692585\n",
      "Epoch 74/1000, Train Loss: 0.689856, Validation Loss: 0.695278\n",
      "Epoch 75/1000, Train Loss: 0.689781, Validation Loss: 0.694646\n",
      "Epoch 76/1000, Train Loss: 0.687289, Validation Loss: 0.695495\n",
      "Epoch 77/1000, Train Loss: 0.688538, Validation Loss: 0.696399\n",
      "Epoch 78/1000, Train Loss: 0.686485, Validation Loss: 0.692980\n",
      "Epoch 79/1000, Train Loss: 0.688572, Validation Loss: 0.694183\n",
      "Epoch 80/1000, Train Loss: 0.691008, Validation Loss: 0.693086\n",
      "Epoch 81/1000, Train Loss: 0.683852, Validation Loss: 0.694954\n",
      "Epoch 82/1000, Train Loss: 0.687496, Validation Loss: 0.695997\n",
      "Epoch 83/1000, Train Loss: 0.687679, Validation Loss: 0.695226\n",
      "Epoch 84/1000, Train Loss: 0.687720, Validation Loss: 0.691627\n",
      "Epoch 85/1000, Train Loss: 0.684143, Validation Loss: 0.695825\n",
      "Epoch 86/1000, Train Loss: 0.686385, Validation Loss: 0.695998\n",
      "Epoch 87/1000, Train Loss: 0.684312, Validation Loss: 0.695767\n",
      "Epoch 88/1000, Train Loss: 0.687560, Validation Loss: 0.700691\n",
      "Epoch 89/1000, Train Loss: 0.688133, Validation Loss: 0.699707\n",
      "Epoch 90/1000, Train Loss: 0.687918, Validation Loss: 0.694862\n",
      "Epoch 91/1000, Train Loss: 0.685159, Validation Loss: 0.699115\n",
      "Epoch 92/1000, Train Loss: 0.686852, Validation Loss: 0.697934\n",
      "Epoch 93/1000, Train Loss: 0.682747, Validation Loss: 0.698467\n",
      "Epoch 94/1000, Train Loss: 0.682594, Validation Loss: 0.697212\n",
      "Epoch 95/1000, Train Loss: 0.681755, Validation Loss: 0.700533\n",
      "Epoch 96/1000, Train Loss: 0.682250, Validation Loss: 0.699137\n",
      "Epoch 97/1000, Train Loss: 0.681908, Validation Loss: 0.695040\n",
      "Epoch 98/1000, Train Loss: 0.678197, Validation Loss: 0.699976\n",
      "Epoch 99/1000, Train Loss: 0.678549, Validation Loss: 0.696878\n",
      "Epoch 100/1000, Train Loss: 0.679818, Validation Loss: 0.703877\n",
      "Epoch 101/1000, Train Loss: 0.674943, Validation Loss: 0.698928\n",
      "Epoch 102/1000, Train Loss: 0.675403, Validation Loss: 0.704369\n",
      "Epoch 103/1000, Train Loss: 0.674189, Validation Loss: 0.699234\n",
      "Epoch 104/1000, Train Loss: 0.670142, Validation Loss: 0.703725\n",
      "Epoch 105/1000, Train Loss: 0.670862, Validation Loss: 0.706842\n",
      "Epoch 106/1000, Train Loss: 0.664637, Validation Loss: 0.712861\n",
      "Epoch 107/1000, Train Loss: 0.672290, Validation Loss: 0.715994\n",
      "Epoch 108/1000, Train Loss: 0.665484, Validation Loss: 0.714857\n",
      "Epoch 109/1000, Train Loss: 0.662505, Validation Loss: 0.719545\n",
      "Epoch 110/1000, Train Loss: 0.665920, Validation Loss: 0.725039\n",
      "Epoch 111/1000, Train Loss: 0.668998, Validation Loss: 0.715069\n",
      "Epoch 112/1000, Train Loss: 0.665823, Validation Loss: 0.722268\n",
      "Epoch 113/1000, Train Loss: 0.666608, Validation Loss: 0.720157\n",
      "Epoch 114/1000, Train Loss: 0.662829, Validation Loss: 0.726621\n",
      "Epoch 115/1000, Train Loss: 0.660861, Validation Loss: 0.724983\n",
      "Epoch 116/1000, Train Loss: 0.655231, Validation Loss: 0.733292\n",
      "Epoch 117/1000, Train Loss: 0.659089, Validation Loss: 0.731623\n",
      "Epoch 118/1000, Train Loss: 0.651002, Validation Loss: 0.733016\n",
      "Epoch 119/1000, Train Loss: 0.649390, Validation Loss: 0.741864\n",
      "Epoch 120/1000, Train Loss: 0.648982, Validation Loss: 0.735268\n",
      "Epoch 121/1000, Train Loss: 0.642228, Validation Loss: 0.745454\n",
      "Epoch 122/1000, Train Loss: 0.641361, Validation Loss: 0.740153\n",
      "Epoch 123/1000, Train Loss: 0.648652, Validation Loss: 0.748103\n",
      "Epoch 124/1000, Train Loss: 0.653999, Validation Loss: 0.738387\n",
      "Epoch 125/1000, Train Loss: 0.645822, Validation Loss: 0.733011\n",
      "Epoch 126/1000, Train Loss: 0.630408, Validation Loss: 0.741013\n",
      "Epoch 127/1000, Train Loss: 0.637055, Validation Loss: 0.746753\n",
      "Epoch 128/1000, Train Loss: 0.628296, Validation Loss: 0.747392\n",
      "Epoch 129/1000, Train Loss: 0.633047, Validation Loss: 0.748633\n",
      "Epoch 130/1000, Train Loss: 0.624409, Validation Loss: 0.754843\n",
      "Epoch 131/1000, Train Loss: 0.623166, Validation Loss: 0.759507\n",
      "Epoch 132/1000, Train Loss: 0.638316, Validation Loss: 0.764416\n",
      "Epoch 133/1000, Train Loss: 0.629345, Validation Loss: 0.749842\n",
      "Epoch 134/1000, Train Loss: 0.622924, Validation Loss: 0.763947\n",
      "Epoch 135/1000, Train Loss: 0.612912, Validation Loss: 0.763139\n",
      "Epoch 136/1000, Train Loss: 0.614862, Validation Loss: 0.762925\n",
      "Epoch 137/1000, Train Loss: 0.614890, Validation Loss: 0.759065\n",
      "Epoch 138/1000, Train Loss: 0.608980, Validation Loss: 0.778261\n",
      "Epoch 139/1000, Train Loss: 0.601796, Validation Loss: 0.793125\n",
      "Epoch 140/1000, Train Loss: 0.599065, Validation Loss: 0.799616\n",
      "Epoch 141/1000, Train Loss: 0.597788, Validation Loss: 0.797006\n",
      "Epoch 142/1000, Train Loss: 0.598102, Validation Loss: 0.786784\n",
      "Epoch 143/1000, Train Loss: 0.592158, Validation Loss: 0.797351\n",
      "Epoch 144/1000, Train Loss: 0.587853, Validation Loss: 0.805853\n",
      "Epoch 145/1000, Train Loss: 0.574816, Validation Loss: 0.827835\n",
      "Epoch 146/1000, Train Loss: 0.574023, Validation Loss: 0.836975\n",
      "Epoch 147/1000, Train Loss: 0.578904, Validation Loss: 0.813089\n",
      "Epoch 148/1000, Train Loss: 0.587452, Validation Loss: 0.813817\n",
      "Epoch 149/1000, Train Loss: 0.580379, Validation Loss: 0.831917\n",
      "Epoch 150/1000, Train Loss: 0.566582, Validation Loss: 0.821687\n",
      "Epoch 151/1000, Train Loss: 0.557083, Validation Loss: 0.835731\n",
      "Epoch 152/1000, Train Loss: 0.546733, Validation Loss: 0.850073\n",
      "Epoch 153/1000, Train Loss: 0.553928, Validation Loss: 0.872063\n",
      "Epoch 154/1000, Train Loss: 0.556914, Validation Loss: 0.833105\n",
      "Epoch 155/1000, Train Loss: 0.551549, Validation Loss: 0.839428\n",
      "Epoch 156/1000, Train Loss: 0.564648, Validation Loss: 0.860981\n",
      "Epoch 157/1000, Train Loss: 0.546578, Validation Loss: 0.874835\n",
      "Epoch 158/1000, Train Loss: 0.533078, Validation Loss: 0.871377\n",
      "Epoch 159/1000, Train Loss: 0.535603, Validation Loss: 0.885191\n",
      "Epoch 160/1000, Train Loss: 0.526122, Validation Loss: 0.860320\n",
      "Epoch 161/1000, Train Loss: 0.529891, Validation Loss: 0.896904\n",
      "Epoch 162/1000, Train Loss: 0.526873, Validation Loss: 0.920113\n",
      "Epoch 163/1000, Train Loss: 0.530655, Validation Loss: 0.930243\n",
      "Epoch 164/1000, Train Loss: 0.522435, Validation Loss: 0.907982\n",
      "Epoch 165/1000, Train Loss: 0.499004, Validation Loss: 0.941296\n",
      "Epoch 166/1000, Train Loss: 0.494787, Validation Loss: 0.935908\n",
      "Epoch 167/1000, Train Loss: 0.487335, Validation Loss: 0.953629\n",
      "Epoch 168/1000, Train Loss: 0.507989, Validation Loss: 0.943566\n",
      "Epoch 169/1000, Train Loss: 0.502621, Validation Loss: 1.028418\n",
      "Epoch 170/1000, Train Loss: 0.493983, Validation Loss: 0.942962\n",
      "Epoch 171/1000, Train Loss: 0.491118, Validation Loss: 0.959003\n",
      "Epoch 172/1000, Train Loss: 0.472751, Validation Loss: 0.977714\n",
      "Epoch 173/1000, Train Loss: 0.474394, Validation Loss: 0.961296\n",
      "Epoch 174/1000, Train Loss: 0.464402, Validation Loss: 1.018619\n",
      "Epoch 175/1000, Train Loss: 0.488453, Validation Loss: 1.011529\n",
      "Epoch 176/1000, Train Loss: 0.480911, Validation Loss: 1.006802\n",
      "Epoch 177/1000, Train Loss: 0.464487, Validation Loss: 0.970148\n",
      "Epoch 178/1000, Train Loss: 0.444278, Validation Loss: 1.038135\n",
      "Epoch 179/1000, Train Loss: 0.457202, Validation Loss: 1.024252\n",
      "Epoch 180/1000, Train Loss: 0.443160, Validation Loss: 0.995919\n",
      "Epoch 181/1000, Train Loss: 0.438164, Validation Loss: 1.053459\n",
      "Epoch 182/1000, Train Loss: 0.448185, Validation Loss: 1.104281\n",
      "Epoch 183/1000, Train Loss: 0.438213, Validation Loss: 1.056647\n",
      "Epoch 184/1000, Train Loss: 0.438785, Validation Loss: 1.063068\n",
      "Epoch 185/1000, Train Loss: 0.417145, Validation Loss: 1.091287\n",
      "Epoch 186/1000, Train Loss: 0.413461, Validation Loss: 1.124278\n",
      "Epoch 187/1000, Train Loss: 0.422266, Validation Loss: 1.139786\n",
      "Epoch 188/1000, Train Loss: 0.411639, Validation Loss: 1.100893\n",
      "Epoch 189/1000, Train Loss: 0.401864, Validation Loss: 1.145085\n",
      "Epoch 190/1000, Train Loss: 0.417521, Validation Loss: 1.131219\n",
      "Epoch 191/1000, Train Loss: 0.413339, Validation Loss: 1.117652\n",
      "Epoch 192/1000, Train Loss: 0.434400, Validation Loss: 1.100471\n",
      "Epoch 193/1000, Train Loss: 0.422207, Validation Loss: 1.143196\n",
      "Epoch 194/1000, Train Loss: 0.398452, Validation Loss: 1.139876\n",
      "Epoch 195/1000, Train Loss: 0.395017, Validation Loss: 1.153235\n",
      "Epoch 196/1000, Train Loss: 0.400573, Validation Loss: 1.166546\n",
      "Epoch 197/1000, Train Loss: 0.376177, Validation Loss: 1.181367\n",
      "Epoch 198/1000, Train Loss: 0.385039, Validation Loss: 1.223527\n",
      "Epoch 199/1000, Train Loss: 0.353200, Validation Loss: 1.238938\n",
      "Epoch 200/1000, Train Loss: 0.340409, Validation Loss: 1.290262\n",
      "Epoch 201/1000, Train Loss: 0.357875, Validation Loss: 1.250664\n",
      "Epoch 202/1000, Train Loss: 0.340850, Validation Loss: 1.259140\n",
      "Epoch 203/1000, Train Loss: 0.350183, Validation Loss: 1.257722\n",
      "Epoch 204/1000, Train Loss: 0.340599, Validation Loss: 1.323598\n",
      "Epoch 205/1000, Train Loss: 0.365682, Validation Loss: 1.303028\n",
      "Epoch 206/1000, Train Loss: 0.355720, Validation Loss: 1.252733\n",
      "Epoch 207/1000, Train Loss: 0.353491, Validation Loss: 1.342449\n",
      "Epoch 208/1000, Train Loss: 0.385041, Validation Loss: 1.342545\n",
      "Epoch 209/1000, Train Loss: 0.347210, Validation Loss: 1.339659\n",
      "Epoch 210/1000, Train Loss: 0.345033, Validation Loss: 1.288463\n",
      "Epoch 211/1000, Train Loss: 0.339830, Validation Loss: 1.313512\n",
      "Epoch 212/1000, Train Loss: 0.338254, Validation Loss: 1.360325\n",
      "Epoch 213/1000, Train Loss: 0.309930, Validation Loss: 1.384726\n",
      "Epoch 214/1000, Train Loss: 0.290033, Validation Loss: 1.419628\n",
      "Epoch 215/1000, Train Loss: 0.299993, Validation Loss: 1.369913\n",
      "Epoch 216/1000, Train Loss: 0.294508, Validation Loss: 1.496397\n",
      "Epoch 217/1000, Train Loss: 0.303012, Validation Loss: 1.473119\n",
      "Epoch 218/1000, Train Loss: 0.304903, Validation Loss: 1.528975\n",
      "Epoch 219/1000, Train Loss: 0.279145, Validation Loss: 1.482133\n",
      "Epoch 220/1000, Train Loss: 0.294412, Validation Loss: 1.481629\n",
      "Epoch 221/1000, Train Loss: 0.328391, Validation Loss: 1.482749\n",
      "Epoch 222/1000, Train Loss: 0.312093, Validation Loss: 1.463364\n",
      "Epoch 223/1000, Train Loss: 0.288415, Validation Loss: 1.445686\n",
      "Epoch 224/1000, Train Loss: 0.264453, Validation Loss: 1.537784\n",
      "Epoch 225/1000, Train Loss: 0.287463, Validation Loss: 1.513837\n",
      "Epoch 226/1000, Train Loss: 0.282103, Validation Loss: 1.522016\n",
      "Epoch 227/1000, Train Loss: 0.284294, Validation Loss: 1.579511\n",
      "Epoch 228/1000, Train Loss: 0.284138, Validation Loss: 1.580438\n",
      "Epoch 229/1000, Train Loss: 0.278030, Validation Loss: 1.551315\n",
      "Epoch 230/1000, Train Loss: 0.277825, Validation Loss: 1.598974\n",
      "Epoch 231/1000, Train Loss: 0.299702, Validation Loss: 1.529724\n",
      "Epoch 232/1000, Train Loss: 0.286848, Validation Loss: 1.560018\n",
      "Epoch 233/1000, Train Loss: 0.273436, Validation Loss: 1.555850\n",
      "Epoch 234/1000, Train Loss: 0.262275, Validation Loss: 1.636144\n",
      "Epoch 235/1000, Train Loss: 0.250040, Validation Loss: 1.607341\n",
      "Epoch 236/1000, Train Loss: 0.238705, Validation Loss: 1.658522\n",
      "Epoch 237/1000, Train Loss: 0.249218, Validation Loss: 1.670611\n",
      "Epoch 238/1000, Train Loss: 0.252484, Validation Loss: 1.669249\n",
      "Epoch 239/1000, Train Loss: 0.258863, Validation Loss: 1.646812\n",
      "Epoch 240/1000, Train Loss: 0.256906, Validation Loss: 1.674210\n",
      "Epoch 241/1000, Train Loss: 0.239532, Validation Loss: 1.710974\n",
      "Epoch 242/1000, Train Loss: 0.244871, Validation Loss: 1.669481\n",
      "Epoch 243/1000, Train Loss: 0.263327, Validation Loss: 1.665249\n",
      "Epoch 244/1000, Train Loss: 0.255092, Validation Loss: 1.681048\n",
      "Epoch 245/1000, Train Loss: 0.259175, Validation Loss: 1.679369\n",
      "Epoch 246/1000, Train Loss: 0.230756, Validation Loss: 1.719134\n",
      "Epoch 247/1000, Train Loss: 0.214192, Validation Loss: 1.771158\n",
      "Epoch 248/1000, Train Loss: 0.226543, Validation Loss: 1.722757\n",
      "Epoch 249/1000, Train Loss: 0.210222, Validation Loss: 1.789724\n",
      "Epoch 250/1000, Train Loss: 0.219022, Validation Loss: 1.801165\n",
      "Epoch 251/1000, Train Loss: 0.229874, Validation Loss: 1.809445\n",
      "Epoch 252/1000, Train Loss: 0.236400, Validation Loss: 1.842503\n",
      "Epoch 253/1000, Train Loss: 0.210548, Validation Loss: 1.829062\n",
      "Epoch 254/1000, Train Loss: 0.209689, Validation Loss: 1.816287\n",
      "Epoch 255/1000, Train Loss: 0.243930, Validation Loss: 1.759070\n",
      "Epoch 256/1000, Train Loss: 0.235984, Validation Loss: 1.873876\n",
      "Epoch 257/1000, Train Loss: 0.215595, Validation Loss: 1.728446\n",
      "Early stopping!\n"
     ]
    }
   ],
   "source": [
    "best_model = train_model(model, train_loader, val_loader, criterion, optimizer, 1000, 200, device)"
   ]
  },
  {
   "cell_type": "code",
   "execution_count": null,
   "metadata": {},
   "outputs": [],
   "source": [
    "from sklearn.model_selection import KFold\n",
    "from sklearn.metrics import accuracy_score, precision_score, recall_score, f1_score, confusion_matrix, classification_report\n",
    "\n",
    "# Step 3: Train and Validate with K-Folds\n",
    "kf = KFold(n_splits=5, shuffle=True, random_state=42)\n",
    "\n",
    "accuracy_list = []\n",
    "precision_list = []\n",
    "recall_list = []\n",
    "f1_list = []\n",
    "train_data = train_dataset1.data\n",
    "x, y = train_data[:,:-1,:], train_data[:,-1:,0]\n",
    "\n",
    "for fold, (train_idx, test_idx) in enumerate(kf.split(train_data)):\n",
    "    print(f'Fold {fold + 1}')\n",
    "    X_train, X_test = x[train_idx], x[test_idx]\n",
    "    y_train, y_test = y[train_idx], y[test_idx]\n",
    "    model = StockPricePredictor(input_dim, hidden_dim, output_dim, num_layers).to(device)\n",
    "    criterion = nn.BCELoss()\n",
    "    optimizer = optim.Adam(model.parameters(), lr=0.001)\n",
    "    \n",
    "    num_epochs = 100\n",
    "    batch_size = 128\n",
    "    \n",
    "    train_dataset = torch.utils.data.TensorDataset(X_train, y_train)\n",
    "    train_loader = torch.utils.data.DataLoader(dataset=train_dataset, batch_size=batch_size, shuffle=True)\n",
    "    \n",
    "    for epoch in range(num_epochs):\n",
    "        model.train()\n",
    "        for i, (sequences_batch, labels_batch) in enumerate(train_loader):\n",
    "            sequences_batch = sequences_batch.to(device)\n",
    "            labels_batch = labels_batch.to(device)\n",
    "            outputs = model(sequences_batch)\n",
    "            loss = criterion(outputs, labels_batch)\n",
    "            \n",
    "            optimizer.zero_grad()\n",
    "            loss.backward()\n",
    "            optimizer.step()\n",
    "        \n",
    "        print(f'Epoch {epoch+1}/{num_epochs}, Loss: {loss.item()}')\n",
    "    \n",
    "    # Evaluation\n",
    "    model.eval()\n",
    "    with torch.no_grad():\n",
    "        y_pred = model(X_test.to(device)).squeeze()\n",
    "        y_pred_class = (y_pred > 0.5).float()\n",
    "    \n",
    "    y_test_cpu = y_test.cpu().numpy()\n",
    "    y_pred_class_cpu = y_pred_class.cpu().numpy()\n",
    "    \n",
    "    accuracy = accuracy_score(y_test_cpu, y_pred_class_cpu)\n",
    "    precision = precision_score(y_test_cpu, y_pred_class_cpu)\n",
    "    recall = recall_score(y_test_cpu, y_pred_class_cpu)\n",
    "    f1 = f1_score(y_test_cpu, y_pred_class_cpu)\n",
    "    \n",
    "    accuracy_list.append(accuracy)\n",
    "    precision_list.append(precision)\n",
    "    recall_list.append(recall)\n",
    "    f1_list.append(f1)\n",
    "    \n",
    "    print(f'Fold {fold + 1} - Accuracy: {accuracy:.4f}, Precision: {precision:.4f}, Recall: {recall:.4f}, F1 Score: {f1:.4f}')\n",
    "\n",
    "# Average performance metrics\n",
    "print(f'Average Accuracy: {np.mean(accuracy_list):.4f}')\n",
    "print(f'Average Precision: {np.mean(precision_list):.4f}')\n",
    "print(f'Average Recall: {np.mean(recall_list):.4f}')\n",
    "print(f'Average F1 Score: {np.mean(f1_list):.4f}')"
   ]
  },
  {
   "cell_type": "code",
   "execution_count": null,
   "metadata": {},
   "outputs": [],
   "source": [
    "def train_model(model, dataloader, criterion, optimizer, num_epochs=100, description=\"\"):\n",
    "    model.train()\n",
    "    with tqdm(range(num_epochs), total=num_epochs) as pbar:\n",
    "        for e in pbar:\n",
    "            for data in dataloader:\n",
    "                x_train = data[:,:-1,:].float().to(device)\n",
    "                y_train = data[:,-1:,0].float().to(device)\n",
    "                optimizer.zero_grad()\n",
    "                outputs = model(x_train)\n",
    "                loss = criterion(outputs, y_train)\n",
    "                loss.backward()\n",
    "                optimizer.step()\n",
    "            pbar.set_description(f\"{description} loss: {loss.item():.6f}\")\n",
    "    "
   ]
  },
  {
   "cell_type": "code",
   "execution_count": null,
   "metadata": {},
   "outputs": [],
   "source": [
    "train_model(model,dl,criterion,optimizer,2000)"
   ]
  },
  {
   "cell_type": "code",
   "execution_count": null,
   "metadata": {},
   "outputs": [],
   "source": [
    "data = next(iter(dl))\n",
    "x, y = data[:,:-1, :], data[:,-1:,0]"
   ]
  },
  {
   "cell_type": "code",
   "execution_count": null,
   "metadata": {},
   "outputs": [],
   "source": [
    "data = []\n",
    "for d in dl:\n",
    "    data.append(d)\n",
    "    \n",
    "data = torch.concat(data)\n",
    "    \n",
    "    "
   ]
  },
  {
   "cell_type": "code",
   "execution_count": null,
   "metadata": {},
   "outputs": [],
   "source": []
  },
  {
   "cell_type": "code",
   "execution_count": null,
   "metadata": {},
   "outputs": [],
   "source": [
    "from sklearn.metrics import accuracy_score, precision_score, recall_score, f1_score, confusion_matrix, classification_report\n",
    "data = data.to(device)\n",
    "x, y = data[:, :-1, :], data[:, -1:, 0]\n",
    "y_pred = model(x)\n",
    "y_pred_class = (y_pred > 0.5).float()\n",
    "\n",
    "# Accuracy\n",
    "accuracy = accuracy_score(y.cpu().detach().numpy(), y_pred_class.cpu().detach().numpy())\n",
    "print(f'Accuracy: {accuracy:.4f}')\n",
    "\n",
    "\n",
    "# Classification Report\n",
    "class_report = classification_report(y.cpu().detach().numpy(), y_pred_class.cpu().detach().numpy())\n",
    "print(f'Classification Report:\\n{class_report}')"
   ]
  },
  {
   "cell_type": "code",
   "execution_count": null,
   "metadata": {},
   "outputs": [],
   "source": [
    "# test\n",
    "dl_test = dl_info_test[\"dataloader\"]\n",
    "\n"
   ]
  },
  {
   "cell_type": "code",
   "execution_count": null,
   "metadata": {},
   "outputs": [],
   "source": [
    "data = []\n",
    "for d in dl_test:\n",
    "    data.append(d)\n",
    "    \n",
    "data = torch.concat(data)\n",
    "    \n",
    "    "
   ]
  },
  {
   "cell_type": "code",
   "execution_count": null,
   "metadata": {},
   "outputs": [],
   "source": [
    "from sklearn.metrics import accuracy_score, precision_score, recall_score, f1_score, confusion_matrix, classification_report\n",
    "data = data.to(device)\n",
    "x, y = data[:, :-1, :], data[:, -1:, 0]\n",
    "y_pred = model(x)\n",
    "y_pred_class = (y_pred > 0.5).float()\n",
    "\n",
    "# Accuracy\n",
    "accuracy = accuracy_score(y.cpu().detach().numpy(), y_pred_class.cpu().detach().numpy())\n",
    "print(f'Accuracy: {accuracy:.4f}')\n",
    "\n",
    "\n",
    "# Classification Report\n",
    "class_report = classification_report(y.cpu().detach().numpy(), y_pred_class.cpu().detach().numpy())\n",
    "print(f'Classification Report:\\n{class_report}')"
   ]
  },
  {
   "cell_type": "code",
   "execution_count": null,
   "metadata": {},
   "outputs": [],
   "source": [
    "trainer = Trainer(config_solver=configs[\"solver\"], model=diffusion_ts, dataloader=dl_info[\"dataloader\"])\n",
    "trainer.train_decomp()"
   ]
  },
  {
   "cell_type": "code",
   "execution_count": null,
   "metadata": {},
   "outputs": [],
   "source": [
    "# generate adversarial data\n",
    "fake_data = diffusion_ts.generate_mts(batch_size=6000)\n"
   ]
  },
  {
   "cell_type": "code",
   "execution_count": null,
   "metadata": {},
   "outputs": [],
   "source": [
    "# load original data\n",
    "seq_length, feature_dim = dataset.window, dataset.feature_dim\n",
    "gt_data = np.load(os.path.join(dataset.dir, f\"stock_origin_data_{seq_length}_train.npy\"))\n",
    "idx = np.random.permutation(len(gt_data))[:3000]\n",
    "ori_data = gt_data[idx]"
   ]
  },
  {
   "cell_type": "code",
   "execution_count": null,
   "metadata": {},
   "outputs": [],
   "source": [
    "visualize_pca(ori_data, fake_data, 3000)\n",
    "visualize_tsne(ori_data, fake_data, 3000)\n",
    "visualize_kernel(ori_data, fake_data, 3000)"
   ]
  },
  {
   "cell_type": "code",
   "execution_count": null,
   "metadata": {},
   "outputs": [],
   "source": [
    "test_data_norm_origin = torch.from_numpy(np.load(os.path.join(dataset.dir, f\"stock_origin_data_{seq_length}_test.npy\"))).to(device)\n",
    "test_mean = torch.from_numpy(np.load(os.path.join(dataset.dir, f\"stock_origin_mean_{seq_length}_test.npy\"))).to(device)\n",
    "test_std = torch.from_numpy(np.load(os.path.join(dataset.dir, f\"stock_origin_std_{seq_length}_test.npy\"))).to(device)\n",
    "\n",
    "test_dataset = TensorDataset(test_data_norm_origin, test_mean, test_std)\n",
    "test_loader = DataLoader(test_dataset, batch_size=batch_size, shuffle=False)\n",
    "\n",
    "lossfn = nn.L1Loss()\n",
    "# lossfn = nn.MSELoss()\n"
   ]
  },
  {
   "cell_type": "code",
   "execution_count": null,
   "metadata": {},
   "outputs": [],
   "source": [
    "def train_model(model, dataloader, criterion, optimizer, num_epochs=100, description=\"\"):\n",
    "    model.train()\n",
    "    with tqdm(range(num_epochs), total=num_epochs) as pbar:\n",
    "        for e in pbar:\n",
    "            for data in dataloader:\n",
    "                x_train = data[:,:-1,:].float().to(device)\n",
    "                y_train = data[:,-1:,0].float().to(device)\n",
    "                optimizer.zero_grad()\n",
    "                outputs = model(x_train)\n",
    "                loss = criterion(outputs, y_train)\n",
    "                loss.backward()\n",
    "                optimizer.step()\n",
    "            pbar.set_description(f\"{description} loss: {loss.item():.6f}\")\n",
    "    "
   ]
  },
  {
   "cell_type": "code",
   "execution_count": null,
   "metadata": {},
   "outputs": [],
   "source": [
    "def evaluate_model(model, dataloader):\n",
    "    model.eval()\n",
    "    # define loss for comparison\n",
    "    l1loss = nn.L1Loss()\n",
    "    l2loss = nn.MSELoss()\n",
    "    mapeloss = MeanAbsolutePercentageError().to(device)\n",
    "    \n",
    "    total_l1 = 0\n",
    "    total_l2 = 0\n",
    "    total_mape = 0\n",
    "\n",
    "    predictions, true_vals = [], []\n",
    "    with torch.no_grad():\n",
    "        for data_norm, data_mean, data_std  in dataloader:\n",
    "            x_test = data_norm[:, :(seq_length - 1), :].float().to(device)\n",
    "            y_test = data_norm[:, (seq_length - 1):, :1].float().to(device)\n",
    "            y_pred = model(x_test).view(-1,1,1)\n",
    "            \n",
    "            y_pred_unnorm = y_pred * data_std[:, :, :1] + data_mean[:, :, :1]\n",
    "            y_test_unnorm = y_test * data_std[:, :, :1] + data_mean[:, :, :1]\n",
    "            total_l1 += l1loss(y_pred_unnorm, y_test_unnorm) * len(data_norm)\n",
    "            total_l2 += l2loss(y_pred_unnorm, y_test_unnorm) * len(data_norm)\n",
    "            total_mape += mapeloss(y_pred_unnorm, y_test_unnorm).item() * len(data_norm)\n",
    "\n",
    "            predictions.append(y_pred_unnorm.cpu().numpy())\n",
    "            true_vals.append(y_test_unnorm.cpu().numpy())\n",
    "\n",
    "    n_data = len(dataloader.dataset)\n",
    "    total_l1 /= n_data\n",
    "    total_l2 /= n_data\n",
    "    total_mape /= n_data\n",
    "    \n",
    "    predictions = np.concatenate(predictions).squeeze()\n",
    "    true_vals = np.concatenate(true_vals).squeeze()\n",
    "    # mape_loss = mapeloss(torch.tensor(predictions), torch.tensor(true_vals)).item()\n",
    "    \n",
    "    return total_l1, total_l2, total_mape, predictions, true_vals"
   ]
  },
  {
   "cell_type": "code",
   "execution_count": null,
   "metadata": {},
   "outputs": [],
   "source": [
    "gt_predictor = GRU(6, 50, 1, 2).to(device)\n",
    "gt_optimizer = Adam(gt_predictor.parameters(), lr=0.001)\n",
    "\n",
    "train_model(gt_predictor, dl_info[\"dataloader\"],lossfn, gt_optimizer, num_epochs=3000)\n"
   ]
  },
  {
   "cell_type": "code",
   "execution_count": null,
   "metadata": {},
   "outputs": [],
   "source": [
    "train_data_norm_origin = torch.from_numpy(np.load(os.path.join(dataset.dir, f\"stock_origin_data_{seq_length}_train.npy\"))).to(device)\n",
    "train_mean = torch.from_numpy(np.load(os.path.join(dataset.dir, f\"stock_origin_mean_{seq_length}_train.npy\"))).to(device)\n",
    "train_std = torch.from_numpy(np.load(os.path.join(dataset.dir, f\"stock_origin_std_{seq_length}_train.npy\"))).to(device)\n",
    "\n",
    "train_dataset = TensorDataset(train_data_norm_origin, train_mean, train_std)\n",
    "train_loader = DataLoader(train_dataset, batch_size=batch_size, shuffle=False)\n",
    "\n",
    "lossfn = nn.L1Loss()\n",
    "# lossfn = nn.MSELoss()\n"
   ]
  },
  {
   "cell_type": "code",
   "execution_count": null,
   "metadata": {},
   "outputs": [],
   "source": [
    "l1, l2, mape, pre_y, true_y = evaluate_model(gt_predictor, train_loader)\n",
    "print(f\"Adv_synthetic : L1 loss: {l1:0.5f} \\t L2 Loss : {l2:0.5f} \\t MAPE loss : {mape:0.5f} \")\n"
   ]
  },
  {
   "cell_type": "code",
   "execution_count": null,
   "metadata": {},
   "outputs": [],
   "source": [
    "plt.plot(pre_y[-200:])\n",
    "plt.plot(true_y[-200:])"
   ]
  },
  {
   "cell_type": "code",
   "execution_count": null,
   "metadata": {},
   "outputs": [],
   "source": [
    "l1, l2, mape, pre_y, true_y = evaluate_model(gt_predictor, test_loader)\n",
    "print(f\"Adv_synthetic : L1 loss: {l1:0.5f} \\t L2 Loss : {l2:0.5f} \\t MAPE loss : {mape:0.5f} \")\n"
   ]
  },
  {
   "cell_type": "code",
   "execution_count": null,
   "metadata": {},
   "outputs": [],
   "source": []
  },
  {
   "cell_type": "code",
   "execution_count": null,
   "metadata": {},
   "outputs": [],
   "source": [
    "a = true_y[-200:]-pre_y[-200:]"
   ]
  },
  {
   "cell_type": "code",
   "execution_count": null,
   "metadata": {},
   "outputs": [],
   "source": [
    "plt.plot(a, marker=\"o\")\n"
   ]
  },
  {
   "cell_type": "code",
   "execution_count": null,
   "metadata": {},
   "outputs": [],
   "source": [
    "plt.plot(pre_y[-200:], marker=\"o\")\n",
    "plt.plot(true_y[-200:], marker=\"o\")"
   ]
  },
  {
   "cell_type": "code",
   "execution_count": null,
   "metadata": {},
   "outputs": [],
   "source": [
    "syn_data = np.concatenate([gt_data, fake_data])"
   ]
  },
  {
   "cell_type": "code",
   "execution_count": null,
   "metadata": {},
   "outputs": [],
   "source": [
    "syn_data =torch.from_numpy(syn_data)"
   ]
  },
  {
   "cell_type": "code",
   "execution_count": null,
   "metadata": {},
   "outputs": [],
   "source": [
    "syn_dl = DataLoader(syn_data, batch_size=batch_size, shuffle=True)\n"
   ]
  },
  {
   "cell_type": "code",
   "execution_count": null,
   "metadata": {},
   "outputs": [],
   "source": [
    "train_model(gt_predictor, syn_dl,lossfn,gt_optimizer, 3000)\n",
    "\n"
   ]
  },
  {
   "cell_type": "code",
   "execution_count": null,
   "metadata": {},
   "outputs": [],
   "source": [
    "l1, l2, mape, pre_y, true_y = evaluate_model(gt_predictor, test_loader)\n",
    "print(f\"Adv_synthetic : L1 loss: {l1:0.5f} \\t L2 Loss : {l2:0.5f} \\t MAPE loss : {mape:0.5f} \")\n"
   ]
  },
  {
   "cell_type": "code",
   "execution_count": null,
   "metadata": {},
   "outputs": [],
   "source": [
    "Adv_synthetic : L1 loss: 0.81854 \t L2 Loss : 1.96458 \t MAPE loss : 0.00976 "
   ]
  },
  {
   "cell_type": "code",
   "execution_count": null,
   "metadata": {},
   "outputs": [],
   "source": [
    "plt.plot(pre_y[-200:], marker=\"o\")\n",
    "plt.plot(true_y[-200:], marker=\"o\")"
   ]
  },
  {
   "cell_type": "code",
   "execution_count": null,
   "metadata": {},
   "outputs": [],
   "source": [
    "ori_data"
   ]
  },
  {
   "cell_type": "code",
   "execution_count": null,
   "metadata": {},
   "outputs": [],
   "source": [
    "ori_data.mean(2).reshape(-1,).shape"
   ]
  },
  {
   "cell_type": "code",
   "execution_count": null,
   "metadata": {},
   "outputs": [],
   "source": [
    "from scipy import stats\n",
    "\n",
    "\n",
    "stat, p_value = stats.shapiro(ori_data.mean(2).reshape(-1,))\n",
    "print(f'Statistic: {stat}, p-value: {p_value}')\n",
    "if p_value > 0.05:\n",
    "    print('The data is normally distributed (fail to reject H0)')\n",
    "else:\n",
    "    print('The data is not normally distributed (reject H0)')\n"
   ]
  },
  {
   "cell_type": "code",
   "execution_count": null,
   "metadata": {},
   "outputs": [],
   "source": [
    "from scipy import stats\n",
    "\n",
    "stat, p_value = stats.kstest(ori_data.mean(2).reshape(-1,), 'norm')\n",
    "print(f'Statistic: {stat}, p-value: {p_value}')\n",
    "if p_value > 0.05:\n",
    "    print('The data is normally distributed (fail to reject H0)')\n",
    "else:\n",
    "    print('The data is not normally distributed (reject H0)')\n"
   ]
  },
  {
   "cell_type": "code",
   "execution_count": null,
   "metadata": {},
   "outputs": [],
   "source": [
    "import matplotlib.pyplot as plt\n",
    "import scipy.stats as stats\n",
    "\n",
    "stats.probplot(ori_data.mean(2).reshape(-1,), dist=\"norm\", plot=plt)\n",
    "plt.title('Q-Q Plot')\n",
    "plt.show()\n"
   ]
  },
  {
   "cell_type": "code",
   "execution_count": null,
   "metadata": {},
   "outputs": [],
   "source": []
  },
  {
   "cell_type": "code",
   "execution_count": null,
   "metadata": {},
   "outputs": [],
   "source": []
  }
 ],
 "metadata": {
  "kernelspec": {
   "display_name": ".venv",
   "language": "python",
   "name": "python3"
  },
  "language_info": {
   "codemirror_mode": {
    "name": "ipython",
    "version": 3
   },
   "file_extension": ".py",
   "mimetype": "text/x-python",
   "name": "python",
   "nbconvert_exporter": "python",
   "pygments_lexer": "ipython3",
   "version": "3.12.1"
  }
 },
 "nbformat": 4,
 "nbformat_minor": 2
}

{
 "cells": [
  {
   "cell_type": "code",
   "execution_count": 1,
   "metadata": {},
   "outputs": [
    {
     "name": "stderr",
     "output_type": "stream",
     "text": [
      "/home/harim/Desktop/pyproject/Project_TS_Generation/.venv/lib/python3.12/site-packages/tqdm/auto.py:21: TqdmWarning: IProgress not found. Please update jupyter and ipywidgets. See https://ipywidgets.readthedocs.io/en/stable/user_install.html\n",
      "  from .autonotebook import tqdm as notebook_tqdm\n"
     ]
    }
   ],
   "source": [
    "import os\n",
    "os.chdir(\"..\")\n",
    "\n",
    "import torch\n",
    "import torch.nn as nn\n",
    "import numpy as np\n",
    "from torch import optim\n",
    "from tqdm import tqdm\n",
    "import matplotlib.pyplot as plt\n",
    "from torchmetrics import MeanAbsolutePercentageError\n",
    "\n",
    "from data.dataloader import dl_from_numpy, dataloader_info\n",
    "from models.predictor import GRU\n",
    "from utils.utils import load_yaml_config"
   ]
  },
  {
   "cell_type": "code",
   "execution_count": 2,
   "metadata": {},
   "outputs": [],
   "source": [
    "# Load configurations\n",
    "configs = load_yaml_config(\"configs/stock_prediction.yaml\")\n",
    "device = \"cuda\" if torch.cuda.is_available() else \"cpu\"\n",
    "\n",
    "# Load dataset info\n",
    "dl_info_train = dataloader_info(configs)\n",
    "dl_info_test = dataloader_info(configs, train=False)\n",
    "dataset = dl_info_train['dataset']\n",
    "seq_length, feature_dim = dataset.window, dataset.feature_dim\n",
    "batch_size = configs[\"dataloader\"][\"batch_size\"]\n",
    "lr = 0.001\n",
    "\n",
    "# Load data\n",
    "ori_dl = dl_from_numpy(os.path.join(dataset.dir, f\"stock_ground_truth_data_{seq_length}_train.npy\"), batch_size=batch_size)\n",
    "fake_dl = dl_from_numpy(os.path.join(dataset.dir, f\"ddpm_fake_stock.npy\"), batch_size=batch_size)\n",
    "dl_test = dl_info_test[\"dataloader\"]"
   ]
  },
  {
   "cell_type": "code",
   "execution_count": 3,
   "metadata": {},
   "outputs": [],
   "source": [
    "# Model training function\n",
    "def train_model(model, dataloader, criterion, optimizer, num_epochs=100, description=\"\"):\n",
    "    model.train()\n",
    "    with tqdm(range(num_epochs), total=num_epochs) as pbar:\n",
    "        for e in pbar:\n",
    "            for data in dataloader:\n",
    "                x_train = data[:,:-1,:].float().to(device)\n",
    "                y_train = data[:,-1:,0].float().to(device)\n",
    "                optimizer.zero_grad()\n",
    "                outputs = model(x_train)\n",
    "                loss = criterion(outputs, y_train)\n",
    "                loss.backward()\n",
    "                optimizer.step()\n",
    "            pbar.set_description(f\"{description} loss: {loss.item():.6f}\")\n",
    "    "
   ]
  },
  {
   "cell_type": "code",
   "execution_count": 4,
   "metadata": {},
   "outputs": [],
   "source": [
    "import torch\n",
    "import torch.nn as nn\n",
    "import torch.nn.functional as F\n",
    "import numpy as np\n",
    "import math\n",
    "from torch.optim import Adam\n",
    "from tqdm.auto import tqdm\n",
    "from models.predictor import GRU\n",
    "from models.transformer import Transformer\n",
    "from utils.utils import extract, cosine_beta_schedule, linear_beta_schedule\n",
    "from einops import reduce, rearrange, repeat\n",
    "\n",
    "class DiffusionTSAdversarial(nn.Module):\n",
    "    def __init__(\n",
    "            self,\n",
    "            seq_length,\n",
    "            n_feat,\n",
    "            n_embd,\n",
    "            timesteps,\n",
    "            loss_type,\n",
    "            beta_sch,\n",
    "            n_heads,\n",
    "            mlp_hidden_times,\n",
    "            n_layer_enc,\n",
    "            n_layer_dec,\n",
    "            use_ff\n",
    "    ):\n",
    "        super().__init__()\n",
    "        self.transformer = Transformer(n_feat=n_feat,\n",
    "                                       seq_len=seq_length, \n",
    "                                       n_embd=n_embd,\n",
    "                                       n_heads=n_heads, \n",
    "                                       mlp_hidden_times=mlp_hidden_times,\n",
    "                                       n_layer_enc=n_layer_enc,\n",
    "                                       n_layer_dec=n_layer_dec)\n",
    "        self.timesteps = int(timesteps)\n",
    "        self.loss_fn = F.l1_loss if loss_type == \"l1\" else F.l2_loss\n",
    "        self.seq_length = seq_length\n",
    "        self.n_feat = n_feat\n",
    "        self.ff_weight = math.sqrt(self.seq_length) / 5\n",
    "        self.use_ff = use_ff\n",
    "        self.predictor = GRU(input_dim=n_feat,\n",
    "                            hidden_dim=50,\n",
    "                            output_dim=1,\n",
    "                            num_layers=2)\n",
    "        # To enhance computing performance\n",
    "        register_buffer = lambda name, val: self.register_buffer(name, val.to(torch.float32))\n",
    "\n",
    "        # diffusion\n",
    "        register_buffer('betas', cosine_beta_schedule(timesteps) if beta_sch==\"cosine\" else linear_beta_schedule(timesteps))\n",
    "        register_buffer('alphas', 1. - self.betas)\n",
    "        register_buffer('alphas_cumprod', torch.cumprod(self.alphas, dim=0))\n",
    "        register_buffer('alphas_cumprod_prev', F.pad(self.alphas_cumprod[:-1], (1, 0), value=1.))\n",
    "        register_buffer('sqrt_alphas_cumprod', torch.sqrt(self.alphas_cumprod))\n",
    "        register_buffer('sqrt_one_minus_alphas_cumprod', torch.sqrt(1. - self.alphas_cumprod))\n",
    "        \n",
    "        # calculations for post q(x_{t-1} | x_t, x_0)\n",
    "        register_buffer('posterior_variance', self.betas * (1. - self.alphas_cumprod_prev) / (1. - self.alphas_cumprod))\n",
    "        register_buffer('posterior_log_variance', torch.log(self.posterior_variance.clamp(min=1e-20)))\n",
    "        register_buffer('posterior_mean_coef1', self.betas * torch.sqrt(self.alphas_cumprod_prev) / (1. - self.alphas_cumprod))\n",
    "        register_buffer('posterior_mean_coef2', (1. - self.alphas_cumprod_prev) * torch.sqrt(self.alphas) / (1. - self.alphas_cumprod))\n",
    "\n",
    "        register_buffer('loss_weight', torch.sqrt(self.alphas) * torch.sqrt(1. - self.alphas_cumprod) / self.betas / 100)\n",
    "\n",
    "        self.predictor_optimizer = Adam(self.predictor.parameters(), lr=0.001)\n",
    "        self.predictor_lossfn = F.l1_loss\n",
    "\n",
    "    def forward(self, x_0):\n",
    "        batch, device = x_0.shape[0], x_0.device\n",
    "        t = torch.randint(0, self.timesteps, (batch,), device=device).long()\n",
    "\n",
    "        return self._train_loss(x_0=x_0, t=t)\n",
    "\n",
    "    def predict_x_0(self, x_t, t):\n",
    "        trend, season = self.transformer(x_t, t)\n",
    "        x_0_hat = trend + season\n",
    "\n",
    "        return x_0_hat\n",
    "\n",
    "    def _train_loss(self, x_0, t):\n",
    "        noise = torch.randn_like(x_0)\n",
    "        x_t = self._forward_process(x_0=x_0, t=t, noise=noise)\n",
    "        x_0_pred = self.predict_x_0(x_t, t)\n",
    "\n",
    "        # l1 loss\n",
    "        l1_loss = self.loss_fn(x_0_pred, x_0, reduction='none')\n",
    "\n",
    "        # fourier_loss\n",
    "        if self.use_ff:\n",
    "            fourier_loss = torch.tensor([0.])\n",
    "            fft1 = torch.fft.fft(x_0_pred.transpose(1, 2), norm='forward')\n",
    "            fft2 = torch.fft.fft(x_0.transpose(1, 2), norm='forward')\n",
    "            fft1, fft2 = fft1.transpose(1, 2), fft2.transpose(1, 2)\n",
    "            fourier_real = self.loss_fn(torch.real(fft1), torch.real(fft2), reduction='none')\n",
    "            fourier_img = self.loss_fn(torch.imag(fft1), torch.imag(fft2), reduction='none')\n",
    "            fourier_loss = fourier_real + fourier_img\n",
    "\n",
    "            combined_loss = l1_loss + self.ff_weight * fourier_loss\n",
    "            combined_loss = reduce(combined_loss, 'b ... -> b (...)', 'mean')\n",
    "\n",
    "        # adversarial loss\n",
    "        pred = self.predictor(x_0_pred[:, :-1, :])\n",
    "        target = x_0_pred[:, -1:, 0]\n",
    "        adv_loss = self.loss_fn(pred, target, reduction=\"none\")\n",
    "        adv_weight = 0.001\n",
    "        combined_loss = combined_loss - adv_weight * adv_loss\n",
    "        combined_loss = combined_loss * extract(self.loss_weight, t, combined_loss.shape)\n",
    "\n",
    "        return combined_loss.mean(), l1_loss.mean(), (self.ff_weight * fourier_loss).mean(), (adv_weight * adv_loss).mean()\n",
    "\n",
    "    def _forward_process(self, x_0, t, noise):\n",
    "        coef1 = extract(self.sqrt_alphas_cumprod, t, x_0.shape)\n",
    "        coef2 = extract(self.sqrt_one_minus_alphas_cumprod, t, x_0.shape)\n",
    "        x_t = coef1 * x_0 + coef2 * noise\n",
    "\n",
    "        return x_t\n",
    "\n",
    "    @torch.no_grad()\n",
    "    def generate_mts(self, batch_size):\n",
    "        device = self.betas.device\n",
    "        shape = (batch_size, self.seq_length, self.n_feat)\n",
    "\n",
    "        x_T = torch.randn(shape, device=device)\n",
    "        synthetic_mts = self._reverse_process(x_T=x_T)\n",
    "\n",
    "        return synthetic_mts.detach().cpu().numpy()\n",
    "\n",
    "    def _reverse_process(self, x_T):\n",
    "        desc = 'reverse step from x_T to x_0'\n",
    "        for t in tqdm(reversed(range(0, self.timesteps)), total=self.timesteps, desc=desc):\n",
    "            x_T = self._posterior_q(x_t=x_T, t=t)\n",
    "        x_0_hat = x_T\n",
    "\n",
    "        return x_0_hat\n",
    "\n",
    "    def _posterior_q(self, x_t, t: int):\n",
    "        '''posterior q(x_{t-1} | x_t, x_0)'''\n",
    "        batched_t = torch.full((x_t.shape[0],), t, device=x_t.device, dtype=torch.long)\n",
    "        x_0 = self.predict_x_0(x_t, t=batched_t)\n",
    "        x_0.clamp_(min=-4., max=4.)\n",
    "\n",
    "        post_mean = self._post_mean(x_0=x_0, x_t=x_t, t=batched_t)\n",
    "        post_log_variance = self._post_log_var(t=batched_t, shape=x_t.shape)\n",
    "        z = torch.randn_like(x_t) if t > 0 else 0.\n",
    "        x_t_1 = post_mean + (0.5 * post_log_variance).exp() * z\n",
    "\n",
    "        return x_t_1\n",
    "\n",
    "    def _post_mean(self, x_0, x_t, t):\n",
    "        coef1 = extract(self.posterior_mean_coef1, t, x_t.shape)\n",
    "        coef2 = extract(self.posterior_mean_coef2, t, x_t.shape)\n",
    "        post_mean = coef1 * x_0 + coef2 * x_t\n",
    "\n",
    "        return post_mean\n",
    "\n",
    "    def _post_log_var(self, t, shape):\n",
    "        post_log_variance = extract(self.posterior_log_variance, t, shape)\n",
    "\n",
    "        return post_log_variance\n",
    "\n",
    "    def generate_adversarial(self, x_0, predictor, num_timesteps=10):\n",
    "        batch, device = x_0.shape[0], x_0.device\n",
    "        x_adv = x_0.clone()\n",
    "        noise = torch.randn_like(x_adv)\n",
    "        predictor.train()\n",
    "        for _ in range(num_timesteps):\n",
    "            # Forward process\n",
    "            t = torch.randint(0, self.timesteps, (batch,), device=device).long()\n",
    "            x_t = self._forward_process(x_adv, t, noise)\n",
    "            x_t.requires_grad = True\n",
    "\n",
    "            # Predict original\n",
    "            x_0_hat = self.predict_x_0(x_t, t)\n",
    "            # Predict using adversarial predictor\n",
    "            pred = predictor(x_0_hat[:, :-1, :])\n",
    "\n",
    "            target = x_0_hat[:, -1:, 0]\n",
    "            loss = self.predictor_lossfn(pred, target)\n",
    "            loss.backward()\n",
    "\n",
    "            # Compute adversarial gradient\n",
    "            grad = x_t.grad.data\n",
    "            x_adv = (x_adv + 0.001 * grad.sign()).clamp(-4, 4).detach()\n",
    "            # x_adv = (x_adv + 0.0005 * grad.sign()).clamp(-4, 4).detach()\n",
    "\n",
    "        return x_adv\n",
    "# Initialize Diffusion_TS Model\n",
    "diffusion_adversarial = DiffusionTSAdversarial(\n",
    "    seq_length=24, n_feat=5, n_embd=128, timesteps=1000,\n",
    "    loss_type='l1', beta_sch='cosine',\n",
    "    n_heads=8, mlp_hidden_times=4,\n",
    "    n_layer_enc=1, n_layer_dec=4,\n",
    "    use_ff=True\n",
    ").to(device)"
   ]
  },
  {
   "cell_type": "code",
   "execution_count": 5,
   "metadata": {},
   "outputs": [
    {
     "name": "stderr",
     "output_type": "stream",
     "text": [
      "/home/harim/Desktop/pyproject/Project_TS_Generation/.venv/lib/python3.12/site-packages/torch/nn/modules/conv.py:306: UserWarning: Plan failed with a cudnnException: CUDNN_BACKEND_EXECUTION_PLAN_DESCRIPTOR: cudnnFinalize Descriptor Failed cudnn_status: CUDNN_STATUS_NOT_SUPPORTED (Triggered internally at ../aten/src/ATen/native/cudnn/Conv_v8.cpp:919.)\n",
      "  return F.conv1d(input, weight, bias, self.stride,\n",
      "/home/harim/Desktop/pyproject/Project_TS_Generation/.venv/lib/python3.12/site-packages/torch/autograd/graph.py:744: UserWarning: Plan failed with a cudnnException: CUDNN_BACKEND_EXECUTION_PLAN_DESCRIPTOR: cudnnFinalize Descriptor Failed cudnn_status: CUDNN_STATUS_NOT_SUPPORTED (Triggered internally at ../aten/src/ATen/native/cudnn/Conv_v8.cpp:919.)\n",
      "  return Variable._execution_engine.run_backward(  # Calls into the C++ engine to run the backward pass\n"
     ]
    }
   ],
   "source": [
    "# Generate adversarial data\n",
    "ori_data = torch.from_numpy(np.load('output/stock_ground_truth_data_24_train.npy')).to(device)\n",
    "adv_data = diffusion_adversarial.generate_adversarial(ori_data,\n",
    "                                                      predictor=diffusion_adversarial.predictor.to(device))\n",
    "\n",
    "# Concatenate adversarial data with original data for training\n",
    "combined_data = torch.cat([ori_data, adv_data], dim=0)\n",
    "from torch.utils.data import DataLoader\n",
    "combined_loader = DataLoader(combined_data, batch_size=128, shuffle=True)"
   ]
  },
  {
   "cell_type": "code",
   "execution_count": 6,
   "metadata": {},
   "outputs": [
    {
     "data": {
      "text/plain": [
       "11"
      ]
     },
     "execution_count": 6,
     "metadata": {},
     "output_type": "execute_result"
    }
   ],
   "source": [
    "import gc\n",
    "\n",
    "# At the beginning or end of training\n",
    "torch.cuda.empty_cache()\n",
    "gc.collect()\n"
   ]
  },
  {
   "cell_type": "code",
   "execution_count": 7,
   "metadata": {},
   "outputs": [
    {
     "name": "stderr",
     "output_type": "stream",
     "text": [
      "Original loss: 0.024377: 100%|██████████| 2000/2000 [00:49<00:00, 40.18it/s]\n"
     ]
    }
   ],
   "source": [
    "# Train on original data\n",
    "model_ori = GRU(input_dim=feature_dim, hidden_dim=50, num_layers=2).to(device)\n",
    "criterion_ori = nn.L1Loss()\n",
    "optimizer_ori = optim.Adam(model_ori.parameters(), lr=lr)\n",
    "train_model(model_ori, ori_dl, criterion_ori, optimizer_ori, num_epochs=2000, description=\"Original\")"
   ]
  },
  {
   "cell_type": "code",
   "execution_count": 8,
   "metadata": {},
   "outputs": [
    {
     "name": "stderr",
     "output_type": "stream",
     "text": [
      "Synthetic + Original loss: 0.024308: 100%|██████████| 2000/2000 [01:29<00:00, 22.36it/s]\n"
     ]
    }
   ],
   "source": [
    "# Train on synthetic data\n",
    "ori_dataset = torch.from_numpy(np.load(os.path.join(dataset.dir, f\"stock_ground_truth_data_{seq_length}_train.npy\"))).to(device)\n",
    "fake_dataset = torch.from_numpy(np.load(os.path.join(dataset.dir, f\"ddpm_fake_stock.npy\"))).to(device)\n",
    "combined_dataset = torch.concatenate([ori_dataset,fake_dataset])\n",
    "from torch.utils.data import DataLoader\n",
    "ori_fake_dl = DataLoader(combined_dataset, batch_size=batch_size, shuffle=True)\n",
    "\n",
    "model_fake = GRU(input_dim=feature_dim, hidden_dim=50, num_layers=2).to(device)\n",
    "criterion_fake = nn.L1Loss()\n",
    "optimizer_fake = optim.Adam(model_fake.parameters(), lr=lr)\n",
    "train_model(model_fake, ori_fake_dl, criterion_fake, optimizer_fake, num_epochs=2000, description=\"Synthetic + Original\")"
   ]
  },
  {
   "cell_type": "code",
   "execution_count": 9,
   "metadata": {},
   "outputs": [
    {
     "name": "stderr",
     "output_type": "stream",
     "text": [
      "AdvSyn + Original loss: 0.023541: 100%|██████████| 2000/2000 [01:29<00:00, 22.35it/s]\n"
     ]
    }
   ],
   "source": [
    "# Train your GRU model using this combined data\n",
    "model_ori_fake = GRU(input_dim=feature_dim, hidden_dim=50, num_layers=2).to(device)\n",
    "\n",
    "criterion_ori_fake = nn.L1Loss()\n",
    "optimizer_ori_fake = Adam(model_ori_fake.parameters(), lr=lr)\n",
    "train_model(model_ori_fake, combined_loader, criterion_ori_fake, optimizer_ori_fake, num_epochs=2000, description=\"AdvSyn + Original\")"
   ]
  },
  {
   "cell_type": "code",
   "execution_count": 10,
   "metadata": {},
   "outputs": [],
   "source": [
    "test_data_norm = torch.from_numpy(np.load(os.path.join(dataset.dir, f\"stock_ground_truth_data_{seq_length}_test.npy\"))).to(device)\n",
    "test_mean = torch.from_numpy(np.load(os.path.join(dataset.dir, f\"stock_ground_truth_mean_{seq_length}_test.npy\"))).to(device)\n",
    "test_std = torch.from_numpy(np.load(os.path.join(dataset.dir, f\"stock_ground_truth_std_{seq_length}_test.npy\"))).to(device)\n",
    "\n",
    "from torch.utils.data import DataLoader, TensorDataset\n",
    "test_dataset = TensorDataset(test_data_norm, test_mean, test_std)\n",
    "test_loader = DataLoader(test_dataset, batch_size=batch_size, shuffle=False)"
   ]
  },
  {
   "cell_type": "code",
   "execution_count": 11,
   "metadata": {},
   "outputs": [],
   "source": [
    "# Evaluate models on the test dataset\n",
    "def evaluate_model(model, dataloader):\n",
    "    model.eval()\n",
    "    criterion = nn.L1Loss()\n",
    "    criterion2 = nn.MSELoss()\n",
    "    mapeloss = MeanAbsolutePercentageError().to(device)\n",
    "    total_loss_L1 = 0\n",
    "    total_loss_MSE = 0\n",
    "    predictions, true_vals = [], []\n",
    "    with torch.no_grad():\n",
    "        for data, mean, std in dataloader:\n",
    "            x_test = data[:, :(seq_length - 1), :].float().to(device)\n",
    "            y_test = data[:, (seq_length - 1) :, :1].float().to(device)\n",
    "            mean = mean[:, :, :1].float().to(device)\n",
    "            std = std[:, :, :1].float().to(device)\n",
    "            y_pred = model(x_test).view(-1,1,1)\n",
    "            \n",
    "            total_loss_L1 += criterion(y_pred, y_test) * len(data)\n",
    "            total_loss_MSE += criterion2(y_pred, y_test) * len(data)\n",
    "\n",
    "            y_test_unnorm = y_test * std + mean\n",
    "            y_pred_unnorm = y_pred * std + mean\n",
    "\n",
    "            predictions.append(y_pred_unnorm.cpu().numpy())\n",
    "            true_vals.append(y_test_unnorm.cpu().numpy())\n",
    "\n",
    "    total_loss_L1 /= len(dataloader.dataset)\n",
    "    total_loss_MSE /= len(dataloader.dataset)\n",
    "    predictions = np.concatenate(predictions).squeeze()\n",
    "    true_vals = np.concatenate(true_vals).squeeze()\n",
    "    mape_loss = mapeloss(torch.tensor(predictions), torch.tensor(true_vals)).item()\n",
    "    \n",
    "    return total_loss_L1, total_loss_MSE, mape_loss, predictions, true_vals"
   ]
  },
  {
   "cell_type": "code",
   "execution_count": 12,
   "metadata": {},
   "outputs": [
    {
     "name": "stdout",
     "output_type": "stream",
     "text": [
      "Original Model : \t L1 loss: 0.63479 \t L2 Loss : 0.75042 \t MAPE loss : 0.01777 \n",
      "Synthetic + Original Model : \t L1 loss: 0.62090 \t L2 Loss : 0.72198 \t MAPE loss : 0.01739 \n",
      "AdvSyn + Original Model : \t L1 loss: 0.60214 \t L2 Loss : 0.69612 \t MAPE loss : 0.01672 \n"
     ]
    }
   ],
   "source": [
    "loss_ori_l1, loss_ori_l2, mape_loss_ori, pred_y_ori, true_y = evaluate_model(model_ori, test_loader)\n",
    "loss_fake_l1, loss_fake_l2, mape_loss_fake, pred_y_fake, _ = evaluate_model(model_fake, test_loader)\n",
    "loss_ori_fake_l1, loss_ori_fake_l2, mape_loss_ori_fake, pred_y_ori_fake, _ = evaluate_model(model_ori_fake, test_loader)\n",
    "\n",
    "print(f\"Original Model : \\t L1 loss: {loss_ori_l1:0.5f} \\t L2 Loss : {loss_ori_l2:0.5f} \\t MAPE loss : {mape_loss_ori:0.5f} \")\n",
    "print(f\"Synthetic + Original Model : \\t L1 loss: {loss_fake_l1:0.5f} \\t L2 Loss : {loss_fake_l2:0.5f} \\t MAPE loss : {mape_loss_fake:0.5f} \")\n",
    "print(f\"AdvSyn + Original Model : \\t L1 loss: {loss_ori_fake_l1:0.5f} \\t L2 Loss : {loss_ori_fake_l2:0.5f} \\t MAPE loss : {mape_loss_ori_fake:0.5f} \")\n"
   ]
  },
  {
   "cell_type": "code",
   "execution_count": 13,
   "metadata": {},
   "outputs": [
    {
     "data": {
      "image/png": "[encoded data removed]",
      "text/plain": [
       "<Figure size 640x480 with 1 Axes>"
      ]
     },
     "metadata": {},
     "output_type": "display_data"
    }
   ],
   "source": [
    "# Visualize predictions\n",
    "plt.figure()\n",
    "plt.plot(true_y[100:300], label='Original Data')\n",
    "plt.plot(pred_y_ori[100:300], label='Predictions (Original Model)', linestyle='-', color='r')\n",
    "plt.plot(pred_y_ori_fake[100:300], label='Predictions (Synthetic Model)', linestyle='--', color='b')\n",
    "plt.legend()\n",
    "plt.title(\"Stock Price Prediction\")\n",
    "plt.xlabel(\"Time Step\")\n",
    "plt.ylabel(\"Closing Price\")\n",
    "plt.show()\n"
   ]
  },
  {
   "cell_type": "markdown",
   "metadata": {},
   "source": [
    "## additional training"
   ]
  },
  {
   "cell_type": "code",
   "execution_count": 14,
   "metadata": {},
   "outputs": [],
   "source": [
    "# # Generate adversarial data\n",
    "# ori_data = torch.from_numpy(np.load('output/stock_ground_truth_data_24_train.npy')).to(device)\n",
    "# adv_data = diffusion_adversarial.generate_adversarial(ori_data,\n",
    "#                                                       predictor=model_ori_fake.to(device))\n",
    "\n",
    "# # Concatenate adversarial data with original data for training\n",
    "# combined_data = torch.cat([ori_data, adv_data], dim=0)\n",
    "# from torch.utils.data import DataLoader\n",
    "# combined_loader = DataLoader(adv_data, batch_size=128, shuffle=True)"
   ]
  },
  {
   "cell_type": "code",
   "execution_count": 15,
   "metadata": {},
   "outputs": [],
   "source": [
    "# import gc\n",
    "\n",
    "# # At the beginning or end of training\n",
    "# torch.cuda.empty_cache()\n",
    "# gc.collect()\n"
   ]
  },
  {
   "cell_type": "code",
   "execution_count": 16,
   "metadata": {},
   "outputs": [],
   "source": [
    "# train_model(model_ori_fake, combined_loader, criterion_ori_fake, optimizer_ori_fake, num_epochs=250, description=\"Synthetic + Original\")\n",
    "# train_model(model_fake, ori_fake_dl, criterion_fake, optimizer_fake, num_epochs=250, description=\"Synthetic\")\n",
    "# train_model(model_ori, ori_dl, criterion_ori, optimizer_ori, num_epochs=250, description=\"Original\")"
   ]
  },
  {
   "cell_type": "code",
   "execution_count": 17,
   "metadata": {},
   "outputs": [],
   "source": [
    "# loss_ori_l1, loss_ori_l2, mape_loss_ori, pred_y_ori, true_y = evaluate_model(model_ori, test_loader)\n",
    "# loss_fake_l1, loss_fake_l2, mape_loss_fake, pred_y_fake, _ = evaluate_model(model_fake, test_loader)\n",
    "# loss_ori_fake_l1, loss_ori_fake_l2, mape_loss_ori_fake, pred_y_ori_fake, _ = evaluate_model(model_ori_fake, test_loader)\n",
    "\n",
    "# print(f\"Original Model : \\t L1 loss: {loss_ori_l1:0.5f} \\t L2 Loss : {loss_ori_l2:0.5f} \\t MAPE loss : {mape_loss_ori:0.5f} \")\n",
    "# print(f\"Fake Model : \\t L1 loss: {loss_fake_l1:0.5f} \\t L2 Loss : {loss_fake_l2:0.5f} \\t MAPE loss : {mape_loss_fake:0.5f} \")\n",
    "# print(f\"OriFake Model : \\t L1 loss: {loss_ori_fake_l1:0.5f} \\t L2 Loss : {loss_ori_fake_l2:0.5f} \\t MAPE loss : {mape_loss_ori_fake:0.5f} \")\n"
   ]
  },
  {
   "cell_type": "code",
   "execution_count": null,
   "metadata": {},
   "outputs": [],
   "source": []
  },
  {
   "cell_type": "code",
   "execution_count": 18,
   "metadata": {},
   "outputs": [
    {
     "name": "stderr",
     "output_type": "stream",
     "text": [
      "Synthetic + Original loss: 0.018546: 100%|██████████| 500/500 [00:11<00:00, 42.86it/s]\n"
     ]
    },
    {
     "name": "stdout",
     "output_type": "stream",
     "text": [
      "OriFake Model : \t L1 loss: 0.59889 \t L2 Loss : 0.69306 \t MAPE loss : 0.01662 \n"
     ]
    },
    {
     "name": "stderr",
     "output_type": "stream",
     "text": [
      "Synthetic + Original loss: 0.020551: 100%|██████████| 500/500 [00:11<00:00, 42.81it/s]\n"
     ]
    },
    {
     "name": "stdout",
     "output_type": "stream",
     "text": [
      "OriFake Model : \t L1 loss: 0.59799 \t L2 Loss : 0.68911 \t MAPE loss : 0.01657 \n"
     ]
    },
    {
     "name": "stderr",
     "output_type": "stream",
     "text": [
      "Synthetic + Original loss: 0.015832: 100%|██████████| 500/500 [00:11<00:00, 42.84it/s]\n"
     ]
    },
    {
     "name": "stdout",
     "output_type": "stream",
     "text": [
      "OriFake Model : \t L1 loss: 0.59641 \t L2 Loss : 0.68510 \t MAPE loss : 0.01653 \n"
     ]
    },
    {
     "name": "stderr",
     "output_type": "stream",
     "text": [
      "Synthetic + Original loss: 0.015918: 100%|██████████| 500/500 [00:11<00:00, 43.07it/s]\n"
     ]
    },
    {
     "name": "stdout",
     "output_type": "stream",
     "text": [
      "OriFake Model : \t L1 loss: 0.59472 \t L2 Loss : 0.68428 \t MAPE loss : 0.01648 \n"
     ]
    },
    {
     "name": "stderr",
     "output_type": "stream",
     "text": [
      "Synthetic + Original loss: 0.015568:  32%|███▏      | 160/500 [00:03<00:07, 42.80it/s]"
     ]
    }
   ],
   "source": [
    "for i in range(50):\n",
    "    # Generate adversarial data\n",
    "    ori_data = torch.from_numpy(np.load('output/stock_ground_truth_data_24_train.npy')).to(device)\n",
    "    adv_data = diffusion_adversarial.generate_adversarial(ori_data,\n",
    "                                                        predictor=model_ori_fake.to(device))\n",
    "\n",
    "    # Concatenate adversarial data with original data for training\n",
    "    combined_data = torch.cat([ori_data, adv_data], dim=0)\n",
    "    combined_loader = DataLoader(adv_data, batch_size=128, shuffle=True)\n",
    "    \n",
    "    torch.cuda.empty_cache()\n",
    "    gc.collect()\n",
    "    \n",
    "    train_model(model_ori_fake, combined_loader, criterion_ori_fake, optimizer_ori_fake, num_epochs=500, description=\"AdvSyn + Original\")\n",
    "    # train_model(model_fake, ori_fake_dl, criterion_fake, optimizer_fake, num_epochs=500, description=\"Synthetic\")\n",
    "    # train_model(model_ori, ori_dl, criterion_ori, optimizer_ori, num_epochs=500, description=\"Original\")\n",
    "    \n",
    "    # loss_ori_l1, loss_ori_l2, mape_loss_ori, pred_y_ori, true_y = evaluate_model(model_ori, test_loader)\n",
    "    # loss_fake_l1, loss_fake_l2, mape_loss_fake, pred_y_fake, _ = evaluate_model(model_fake, test_loader)\n",
    "    loss_ori_fake_l1, loss_ori_fake_l2, mape_loss_ori_fake, pred_y_ori_fake, _ = evaluate_model(model_ori_fake, test_loader)\n",
    "\n",
    "    # print(f\"Original Model : \\t L1 loss: {loss_ori_l1:0.5f} \\t L2 Loss : {loss_ori_l2:0.5f} \\t MAPE loss : {mape_loss_ori:0.5f} \")\n",
    "    # print(f\"Fake Model : \\t L1 loss: {loss_fake_l1:0.5f} \\t L2 Loss : {loss_fake_l2:0.5f} \\t MAPE loss : {mape_loss_fake:0.5f} \")\n",
    "    print(f\"OriFake Model : \\t L1 loss: {loss_ori_fake_l1:0.5f} \\t L2 Loss : {loss_ori_fake_l2:0.5f} \\t MAPE loss : {mape_loss_ori_fake:0.5f} \")\n",
    "\n"
   ]
  },
  {
   "cell_type": "code",
   "execution_count": null,
   "metadata": {},
   "outputs": [],
   "source": []
  }
 ],
 "metadata": {
  "kernelspec": {
   "display_name": ".venv",
   "language": "python",
   "name": "python3"
  },
  "language_info": {
   "codemirror_mode": {
    "name": "ipython",
    "version": 3
   },
   "file_extension": ".py",
   "mimetype": "text/x-python",
   "name": "python",
   "nbconvert_exporter": "python",
   "pygments_lexer": "ipython3",
   "version": "3.12.1"
  }
 },
 "nbformat": 4,
 "nbformat_minor": 2
}
